{
 "cells": [
  {
   "cell_type": "markdown",
   "id": "f6b432c7",
   "metadata": {
    "tags": []
   },
   "source": [
    "<h1 align=center><font size = 6>Business Problem</font></h1>"
   ]
  },
  {
   "cell_type": "markdown",
   "id": "78fc52dc",
   "metadata": {},
   "source": [
    "# "
   ]
  },
  {
   "cell_type": "markdown",
   "id": "c6cfb443",
   "metadata": {},
   "source": [
    "<a><img src = \"http://bpka.bandung.go.id/assets/images/slider-bg-01.jpg\" width = 700> </a>"
   ]
  },
  {
   "cell_type": "markdown",
   "id": "b675e837",
   "metadata": {},
   "source": [
    "Bandung is the capital city of West Java Province in Indonesia. Greater Bandung is the country's second-largest metropolitan area with the population over 11 million people. Bandung consist of 30 district and 151 subdistrict. Bandung known as culinery city in Indonesia, there are so many restaurant that provide so many kind of food. Hence, so many people come to visit this city just to enjoying the food and the atmosphere of Bandung in the weekend. The atmosphere of Bandung is very comfortable and also have cool weather. Besides, there are so many college in Bandung that make people from different city come to this city to study. \n"
   ]
  },
  {
   "cell_type": "markdown",
   "id": "6e115774",
   "metadata": {},
   "source": [
    "Nowadays, there are so many unique foods and beverages served in a restaurant or café. Most investors or stakeholders are competing to make the most unique food and beverages to attract the people. This unique food or beverages can be the iconic one for some venues. But there are so many venues that placed in the same area and make a great competition. Hence, so many venues are collapse in Bandung because of the wrong strategy of their placement. In this project, I will analyze the best place for the investors to start their business. Besides, in this project I will only highlight the beverages. The most venue which deserves so many unique beverages is café and coffee shop, so I will just analyze this two venues to get the results and the conclusion for the investors. "
   ]
  }
 ],
 "metadata": {
  "kernelspec": {
   "display_name": "Python 3",
   "language": "python",
   "name": "python3"
  },
  "language_info": {
   "codemirror_mode": {
    "name": "ipython",
    "version": 3
   },
   "file_extension": ".py",
   "mimetype": "text/x-python",
   "name": "python",
   "nbconvert_exporter": "python",
   "pygments_lexer": "ipython3",
   "version": "3.6.13"
  }
 },
 "nbformat": 4,
 "nbformat_minor": 5
}
