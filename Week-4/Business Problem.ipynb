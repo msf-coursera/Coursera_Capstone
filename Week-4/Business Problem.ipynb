{
 "cells": [
  {
   "cell_type": "markdown",
   "id": "ddb06abf",
   "metadata": {
    "tags": []
   },
   "source": [
    "<h1 align=center><font size = 6>Business Problem</font></h1>"
   ]
  },
  {
   "cell_type": "markdown",
   "id": "cac77931",
   "metadata": {},
   "source": [
    "# "
   ]
  },
  {
   "cell_type": "markdown",
   "id": "be1d5bd5",
   "metadata": {},
   "source": [
    "<a><img src = \"http://bpka.bandung.go.id/assets/images/slider-bg-01.jpg\" width = 700> </a>"
   ]
  },
  {
   "cell_type": "markdown",
   "id": "ef724152",
   "metadata": {},
   "source": [
    "Bandung is the capital city of West Java Province in Indonesia. Greater Bandung is the country's second-largest metropolitan area with the population over 11 million people. Bandung consist of 30 district and 151 subdistrict. Bandung known as culinery city in Indonesia, there are so many restaurant that provide so many kind of food. Hence, so many people come to visit this city just to enjoying the food and the atmosphere of Bandung in the weekend. The atmosphere of Bandung is very comfortable and also have cool weather. Besides, there are so many college in Bandung that make people from different city come to this city to study. \n",
    "\n",
    "The most venues in Bandung is coffee shop and café. The two venues are spreading all over the city. In this project I want to analyze this two venues. Besides, I will using hotel to detect whether it is most attractive area for the visitor so much or not. The amount of hotel will show the information about how much people for each subdistrict. The final result of this project can be used to find the strategic place for coffee shop and café for investors in Bandung. "
   ]
  }
 ],
 "metadata": {
  "kernelspec": {
   "display_name": "Python 3",
   "language": "python",
   "name": "python3"
  },
  "language_info": {
   "codemirror_mode": {
    "name": "ipython",
    "version": 3
   },
   "file_extension": ".py",
   "mimetype": "text/x-python",
   "name": "python",
   "nbconvert_exporter": "python",
   "pygments_lexer": "ipython3",
   "version": "3.6.13"
  }
 },
 "nbformat": 4,
 "nbformat_minor": 5
}
